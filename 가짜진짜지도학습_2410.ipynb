{
 "cells": [
  {
   "cell_type": "code",
   "execution_count": 51,
   "id": "4ea10a68-984f-49a8-ab54-0832f4c45006",
   "metadata": {},
   "outputs": [
    {
     "data": {
      "text/html": [
       "<div>\n",
       "<style scoped>\n",
       "    .dataframe tbody tr th:only-of-type {\n",
       "        vertical-align: middle;\n",
       "    }\n",
       "\n",
       "    .dataframe tbody tr th {\n",
       "        vertical-align: top;\n",
       "    }\n",
       "\n",
       "    .dataframe thead th {\n",
       "        text-align: right;\n",
       "    }\n",
       "</style>\n",
       "<table border=\"1\" class=\"dataframe\">\n",
       "  <thead>\n",
       "    <tr style=\"text-align: right;\">\n",
       "      <th></th>\n",
       "      <th>reviews</th>\n",
       "      <th>dfake</th>\n",
       "    </tr>\n",
       "  </thead>\n",
       "  <tbody>\n",
       "    <tr>\n",
       "      <th>0</th>\n",
       "      <td>LG 공기청정기 고민했는데, 구매하고 나서 너무 다행이에요. 미세먼지가 확실히 줄어...</td>\n",
       "      <td>1</td>\n",
       "    </tr>\n",
       "    <tr>\n",
       "      <th>1</th>\n",
       "      <td>LG 공기청정기 구매했는데 정말 생각보다 성능이 좋네요! 미세먼지가 제거되니 공기 ...</td>\n",
       "      <td>1</td>\n",
       "    </tr>\n",
       "    <tr>\n",
       "      <th>2</th>\n",
       "      <td>LG 공기청정기 구매했는데, 미세먼지 제거가 뛰어나네요. 생각보다 효과가 좋아서 매...</td>\n",
       "      <td>1</td>\n",
       "    </tr>\n",
       "    <tr>\n",
       "      <th>3</th>\n",
       "      <td>LG 공기청정기 구매했는데, 생각보다 성능이 뛰어나요. 미세먼지가 확실히 줄어들고,...</td>\n",
       "      <td>1</td>\n",
       "    </tr>\n",
       "    <tr>\n",
       "      <th>4</th>\n",
       "      <td>LG 공기청정기 구매했는데, 이미 사용 중인 삼성 제품과 비교해도 성능이 뛰어나네요...</td>\n",
       "      <td>1</td>\n",
       "    </tr>\n",
       "    <tr>\n",
       "      <th>...</th>\n",
       "      <td>...</td>\n",
       "      <td>...</td>\n",
       "    </tr>\n",
       "    <tr>\n",
       "      <th>7980</th>\n",
       "      <td>배송비는 바로 받아놓고 계속 전화도 안받으셨지만... 배송믄 2주 조금 더 걸렸습니...</td>\n",
       "      <td>0</td>\n",
       "    </tr>\n",
       "    <tr>\n",
       "      <th>7981</th>\n",
       "      <td>배송도 빠르고 친절하였습니다</td>\n",
       "      <td>0</td>\n",
       "    </tr>\n",
       "    <tr>\n",
       "      <th>7982</th>\n",
       "      <td>공기청정기는 lg제품이 최고입니다적당한가격에 구매하여 아껴가며 오래도록 쓰겠 습니다</td>\n",
       "      <td>0</td>\n",
       "    </tr>\n",
       "    <tr>\n",
       "      <th>7983</th>\n",
       "      <td>배송도 지정일에 잘왔고 싸게 잘 샀어요</td>\n",
       "      <td>0</td>\n",
       "    </tr>\n",
       "    <tr>\n",
       "      <th>7984</th>\n",
       "      <td>역시LG좋하요♡♡♡♡♡♡</td>\n",
       "      <td>0</td>\n",
       "    </tr>\n",
       "  </tbody>\n",
       "</table>\n",
       "<p>7985 rows × 2 columns</p>\n",
       "</div>"
      ],
      "text/plain": [
       "                                                reviews  dfake\n",
       "0     LG 공기청정기 고민했는데, 구매하고 나서 너무 다행이에요. 미세먼지가 확실히 줄어...      1\n",
       "1     LG 공기청정기 구매했는데 정말 생각보다 성능이 좋네요! 미세먼지가 제거되니 공기 ...      1\n",
       "2     LG 공기청정기 구매했는데, 미세먼지 제거가 뛰어나네요. 생각보다 효과가 좋아서 매...      1\n",
       "3     LG 공기청정기 구매했는데, 생각보다 성능이 뛰어나요. 미세먼지가 확실히 줄어들고,...      1\n",
       "4     LG 공기청정기 구매했는데, 이미 사용 중인 삼성 제품과 비교해도 성능이 뛰어나네요...      1\n",
       "...                                                 ...    ...\n",
       "7980  배송비는 바로 받아놓고 계속 전화도 안받으셨지만... 배송믄 2주 조금 더 걸렸습니...      0\n",
       "7981                                    배송도 빠르고 친절하였습니다      0\n",
       "7982     공기청정기는 lg제품이 최고입니다적당한가격에 구매하여 아껴가며 오래도록 쓰겠 습니다      0\n",
       "7983                              배송도 지정일에 잘왔고 싸게 잘 샀어요      0\n",
       "7984                                      역시LG좋하요♡♡♡♡♡♡      0\n",
       "\n",
       "[7985 rows x 2 columns]"
      ]
     },
     "execution_count": 51,
     "metadata": {},
     "output_type": "execute_result"
    }
   ],
   "source": [
    "import pandas as pd\n",
    "\n",
    "# 파일 읽기\n",
    "file_path = 'Air_reviews.xlsx' \n",
    "df = pd.read_excel(file_path)\n",
    "\n",
    "df"
   ]
  },
  {
   "cell_type": "markdown",
   "id": "f1db8236-e0f7-4cdd-846f-06150298b08d",
   "metadata": {},
   "source": [
    "# 1. **로지스틱 회귀 (분류)**"
   ]
  },
  {
   "cell_type": "code",
   "execution_count": 1,
   "id": "081ce576-ba3e-4881-a971-4babec5d61a2",
   "metadata": {},
   "outputs": [],
   "source": [
    "\n",
    "from sklearn.model_selection import train_test_split\n",
    "from sklearn.feature_extraction.text import TfidfVectorizer\n",
    "from sklearn.linear_model import LogisticRegression\n",
    "from sklearn.metrics import accuracy_score, classification_report\n"
   ]
  },
  {
   "cell_type": "code",
   "execution_count": 37,
   "id": "327d28ae-0f6d-4feb-8de1-6a8be06ea822",
   "metadata": {},
   "outputs": [],
   "source": [
    "# 데이터 섞기\n",
    "df_shuffled = df.sample(frac=1, random_state=42).reset_index(drop=True)\n",
    "\n",
    "# 섞인 데이터로 학습\n",
    "X = df_shuffled['reviews']  # 섞인 리뷰 데이터\n",
    "y = df_shuffled['dfake']     # 섞인 타겟\n",
    "\n",
    "\n",
    "# 리뷰 데이터를 TF-IDF로 변환\n",
    "vectorizer = TfidfVectorizer(max_features=500)  # n개의 피처(단어 중요도 높은순)를 사용\n",
    "X_tfidf = vectorizer.fit_transform(X)\n",
    "\n",
    "# 학습용 데이터와 테스트용 데이터로 나누기\n",
    "X_train, X_test, y_train, y_test = train_test_split(X_tfidf, y, test_size=0.4, random_state=42)\n",
    "\n",
    "# 로지스틱 회귀 모델 정의 및 학습\n",
    "model = LogisticRegression()\n",
    "model.fit(X_train, y_train)\n",
    "\n",
    "# 예측 수행\n",
    "y_pred = model.predict(X_test)\n"
   ]
  },
  {
   "cell_type": "code",
   "execution_count": 39,
   "id": "1b31fbb4-e328-463d-9072-e678597effcf",
   "metadata": {},
   "outputs": [
    {
     "name": "stdout",
     "output_type": "stream",
     "text": [
      "Accuracy: 0.9492798998121478\n",
      "Classification Report:\n",
      "               precision    recall  f1-score   support\n",
      "\n",
      "           0       0.95      0.98      0.97      2375\n",
      "           1       0.95      0.85      0.90       819\n",
      "\n",
      "    accuracy                           0.95      3194\n",
      "   macro avg       0.95      0.92      0.93      3194\n",
      "weighted avg       0.95      0.95      0.95      3194\n",
      "\n"
     ]
    }
   ],
   "source": [
    "# 성능 평가\n",
    "accuracy = accuracy_score(y_test, y_pred)\n",
    "report = classification_report(y_test, y_pred)\n",
    "\n",
    "print(f\"Accuracy: {accuracy}\")\n",
    "print(\"Classification Report:\\n\", report)"
   ]
  },
  {
   "cell_type": "code",
   "execution_count": 62,
   "id": "e24ad7d3-1185-401d-a72a-88becc9c1377",
   "metadata": {},
   "outputs": [
    {
     "name": "stdout",
     "output_type": "stream",
     "text": [
      "dfake\n",
      "0    5968\n",
      "1    2017\n",
      "Name: count, dtype: int64\n"
     ]
    }
   ],
   "source": [
    "#데이터 클래스 분포\n",
    "print(df['dfake'].value_counts())"
   ]
  },
  {
   "cell_type": "code",
   "execution_count": 33,
   "id": "e2563893-10de-4df2-8cf6-9d889f2c08d6",
   "metadata": {},
   "outputs": [
    {
     "name": "stdout",
     "output_type": "stream",
     "text": [
      "Cross-Validation Scores: [0.95554164 0.96055103 0.95428929 0.95867251 0.95867251]\n",
      "Average CV Score: 0.9575453976205385\n"
     ]
    }
   ],
   "source": [
    "#교차검증\n",
    "from sklearn.model_selection import cross_val_score\n",
    "\n",
    "model = LogisticRegression()\n",
    "scores = cross_val_score(model, X_tfidf, y, cv=5)\n",
    "print(f\"Cross-Validation Scores: {scores}\")\n",
    "print(f\"Average CV Score: {scores.mean()}\")\n"
   ]
  },
  {
   "cell_type": "markdown",
   "id": "70016494-1672-4c8a-a65f-54dc7bbb84d9",
   "metadata": {},
   "source": [
    "## **규제(Regulation) -> 과적합 방지**\n",
    "- c값이 작으면 규제 강도 높아짐 (0.01, 0.1) : 규제 강도 강해져 단순한 관계만 학습함, 과적합 방지하지만 단순한 모델이 되어 과소적합이 될 수 있음\n",
    "- c값 클때(10, 100) : 더 세부적으로 학습하려고 함, 작은 패턴에 민감하게 반응해 과적합 가능성 커짐, 테스트 데이터 성능 떨어짐"
   ]
  },
  {
   "cell_type": "code",
   "execution_count": null,
   "id": "ba377f9d-8256-44da-9678-67f4f15522d7",
   "metadata": {},
   "outputs": [],
   "source": [
    "#규제(Regulation)사용 -> 과적합 방지\n",
    "model_r = LogisticRegression(C=0.05)  # C 값을 낮추면 규제가 강해짐\n",
    "model_r.fit(X_train, y_train)\n",
    "\n",
    "\n",
    "# 예측 수행\n",
    "y_pred_r = model_r.predict(X_test)\n",
    "\n",
    "# 성능 평가\n",
    "accuracy = accuracy_score(y_test, y_pred_r)\n",
    "report = classification_report(y_test, y_pred_r)\n",
    "\n",
    "print(f\"Accuracy: {accuracy}\")\n",
    "print(\"Classification Report:\\n\", report)"
   ]
  },
  {
   "cell_type": "markdown",
   "id": "a73891d3-ba5f-4e47-a09e-f1f18d4af928",
   "metadata": {},
   "source": [
    "### 규제 효과 실험 (c민감도)"
   ]
  },
  {
   "cell_type": "code",
   "execution_count": 58,
   "id": "f87445dd-7452-46e7-9e73-89e4d59ec69c",
   "metadata": {},
   "outputs": [
    {
     "name": "stdout",
     "output_type": "stream",
     "text": [
      "C = 0.01, Accuracy = 0.7435817157169693\n",
      "C = 0.1, Accuracy = 0.8663118346900438\n",
      "C = 1, Accuracy = 0.9492798998121478\n",
      "C = 10, Accuracy = 0.9627426424546024\n",
      "C = 100, Accuracy = 0.9643080776455855\n"
     ]
    }
   ],
   "source": [
    "for C_value in [0.01, 0.1, 1, 10, 100]:\n",
    "    model_rt = LogisticRegression(C=C_value)\n",
    "    model_rt.fit(X_train, y_train)\n",
    "    y_pred_rt = model_rt.predict(X_test)\n",
    "    accuracy = accuracy_score(y_test, y_pred_rt)\n",
    "    print(f\"C = {C_value}, Accuracy = {accuracy}\")"
   ]
  },
  {
   "cell_type": "code",
   "execution_count": null,
   "id": "bf6ac44f-7ee6-4260-94de-5b38d900e4a1",
   "metadata": {},
   "outputs": [],
   "source": []
  },
  {
   "cell_type": "markdown",
   "id": "149ab03b-d915-4dbc-ac5f-c4554c648684",
   "metadata": {},
   "source": [
    "# 2. **서포트 벡터 머신(SVM)** "
   ]
  },
  {
   "cell_type": "code",
   "execution_count": 69,
   "id": "fdb55ff6-9b77-413a-a747-87a66deee06a",
   "metadata": {},
   "outputs": [],
   "source": [
    "from sklearn.model_selection import train_test_split\n",
    "from sklearn.feature_extraction.text import TfidfVectorizer\n",
    "from sklearn.svm import SVC\n",
    "from sklearn.metrics import accuracy_score, classification_report"
   ]
  },
  {
   "cell_type": "code",
   "execution_count": 83,
   "id": "a61af64c-6cb4-438b-aa8d-f7c2ed6403f3",
   "metadata": {},
   "outputs": [],
   "source": [
    "# 데이터 섞기\n",
    "df_shuffled = df.sample(frac=1, random_state=42).reset_index(drop=True)\n",
    "\n",
    "# 섞인 데이터로 학습\n",
    "X = df_shuffled['reviews']  # 섞인 리뷰 데이터\n",
    "y = df_shuffled['dfake']     # 섞인 타겟\n",
    "\n",
    "# 리뷰 데이터를 TF-IDF로 변환\n",
    "vectorizer = TfidfVectorizer(max_features=500)\n",
    "X_tfidf = vectorizer.fit_transform(X)\n",
    "\n",
    "# 학습용 데이터와 테스트용 데이터로 나누기\n",
    "X_train, X_test, y_train, y_test = train_test_split(X_tfidf, y, test_size=0.4, random_state=42)\n"
   ]
  },
  {
   "cell_type": "markdown",
   "id": "9aa98cc4-7e73-4b7c-8b8e-a003566311f9",
   "metadata": {},
   "source": [
    "*커널*\n",
    "- 데이터를 고차원으로 변환하여 분류하는 방법 (linear, RBF 등)"
   ]
  },
  {
   "cell_type": "code",
   "execution_count": 86,
   "id": "c5cb2a5d-395f-4abe-bc03-b0155b8d93c1",
   "metadata": {},
   "outputs": [],
   "source": [
    "# SVM 모델 정의 및 학습\n",
    "model = SVC(kernel='linear')  # 선형 커널을 사용한 SVM\n",
    "model.fit(X_train, y_train)\n",
    "\n",
    "# 예측 수행\n",
    "y_pred = model.predict(X_test)\n"
   ]
  },
  {
   "cell_type": "code",
   "execution_count": 88,
   "id": "824cb8be-18df-45ef-8088-a5905947d9f8",
   "metadata": {},
   "outputs": [
    {
     "name": "stdout",
     "output_type": "stream",
     "text": [
      "Accuracy: 0.960551033187226\n",
      "Classification Report:\n",
      "               precision    recall  f1-score   support\n",
      "\n",
      "           0       0.97      0.98      0.97      2375\n",
      "           1       0.95      0.90      0.92       819\n",
      "\n",
      "    accuracy                           0.96      3194\n",
      "   macro avg       0.96      0.94      0.95      3194\n",
      "weighted avg       0.96      0.96      0.96      3194\n",
      "\n"
     ]
    }
   ],
   "source": [
    "# 성능 평가\n",
    "accuracy = accuracy_score(y_test, y_pred)\n",
    "report = classification_report(y_test, y_pred)\n",
    "\n",
    "print(f\"Accuracy: {accuracy}\")\n",
    "print(\"Classification Report:\\n\", report)"
   ]
  },
  {
   "cell_type": "code",
   "execution_count": 99,
   "id": "374977c6-35dd-49f5-979e-858a659e1cc6",
   "metadata": {},
   "outputs": [
    {
     "name": "stdout",
     "output_type": "stream",
     "text": [
      "Cross-Validation Scores: [0.96305573 0.96931747 0.96430808 0.96180338 0.97182217]\n",
      "Average CV Score: 0.9660613650594865\n"
     ]
    }
   ],
   "source": [
    "#교차 검증\n",
    "from sklearn.model_selection import cross_val_score\n",
    "\n",
    "scores = cross_val_score(model, X_tfidf, y, cv=5)  # 5-fold 교차 검증\n",
    "print(f\"Cross-Validation Scores: {scores}\")\n",
    "print(f\"Average CV Score: {scores.mean()}\")\n"
   ]
  },
  {
   "cell_type": "markdown",
   "id": "a8d09f6a-1841-45c7-b484-18267e0a1431",
   "metadata": {},
   "source": [
    "## **SVM에서 규제**"
   ]
  },
  {
   "cell_type": "code",
   "execution_count": 130,
   "id": "7f41fac4-5f83-4944-b34a-17ce51947815",
   "metadata": {},
   "outputs": [
    {
     "name": "stdout",
     "output_type": "stream",
     "text": [
      "C = 0.01, Accuracy = 0.9371859296482412\n",
      "C = 0.1, Accuracy = 0.961892797319933\n",
      "C = 1, Accuracy = 0.9752931323283082\n",
      "C = 10, Accuracy = 0.9752931323283082\n",
      "C = 100, Accuracy = 0.9690117252931323\n"
     ]
    }
   ],
   "source": [
    "from sklearn.svm import SVC\n",
    "\n",
    "# SVM 모델 정의 (C 값을 설정하여 규제 강도 조절)\n",
    "for C_value in [0.01, 0.1, 1, 10, 100]:\n",
    "    model_rt = SVC(kernel = 'linear', C=C_value)\n",
    "    model_rt.fit(X_train, y_train)\n",
    "    y_pred_rt = model_rt.predict(X_test)\n",
    "    accuracy = accuracy_score(y_test, y_pred_rt)\n",
    "    print(f\"C = {C_value}, Accuracy = {accuracy}\")"
   ]
  },
  {
   "cell_type": "markdown",
   "id": "967c07b7-7f67-4188-bff7-c4368604e7f9",
   "metadata": {},
   "source": [
    "## **데이터 증강(Augmentation)**\n",
    "- SMOTE(Synthetic Minority Over-sampling Technique)\n",
    "- 클래스 불균형이 확인된다면, 소수 클래스의 데이터를 증강하여 균형 맞춤\n",
    "- 과적합 방지"
   ]
  },
  {
   "cell_type": "code",
   "execution_count": 94,
   "id": "dc07f9a5-0849-4a01-8a1d-3b991a59c8a0",
   "metadata": {},
   "outputs": [
    {
     "name": "stdout",
     "output_type": "stream",
     "text": [
      "Accuracy: 0.9719371727748691\n",
      "Classification Report:\n",
      "               precision    recall  f1-score   support\n",
      "\n",
      "           0       0.97      0.97      0.97      2364\n",
      "           1       0.97      0.97      0.97      2411\n",
      "\n",
      "    accuracy                           0.97      4775\n",
      "   macro avg       0.97      0.97      0.97      4775\n",
      "weighted avg       0.97      0.97      0.97      4775\n",
      "\n"
     ]
    }
   ],
   "source": [
    "from imblearn.over_sampling import SMOTE\n",
    "\n",
    "# SMOTE 적용\n",
    "smote = SMOTE(random_state=42)\n",
    "X_resampled, y_resampled = smote.fit_resample(X_tfidf, y)\n",
    "\n",
    "# 학습용 데이터와 테스트용 데이터로 나누기\n",
    "X_train, X_test, y_train, y_test = train_test_split(X_resampled, y_resampled, test_size=0.4, random_state=42)\n",
    "\n",
    "# SVM 모델 학습 및 예측\n",
    "model_smote = SVC(kernel='linear')\n",
    "model_smote.fit(X_train, y_train)\n",
    "y_pred_smote = model_smote.predict(X_test)\n",
    "\n",
    "# 성능 평가\n",
    "accuracy = accuracy_score(y_test, y_pred_smote)\n",
    "report = classification_report(y_test, y_pred_smote)\n",
    "\n",
    "print(f\"Accuracy: {accuracy}\")\n",
    "print(\"Classification Report:\\n\", report)\n"
   ]
  },
  {
   "cell_type": "code",
   "execution_count": null,
   "id": "6e907a4f-33e9-4a75-bea7-af418332df64",
   "metadata": {},
   "outputs": [],
   "source": []
  },
  {
   "cell_type": "markdown",
   "id": "c67f3353-f1d1-4e76-ac41-b33f34a5ad53",
   "metadata": {},
   "source": [
    "# 3. **GBM(그래디언트 부스트 머신)**\n",
    "- 순차적인 학습: 각 단계에서 이전 단계의 예측 오류를 보완하면서 모델을 학습\n",
    "- 앙상블 기법: 여러 약한 모델을 결합해 더 강력한 모델을 만드는 방식으로, 보통 결정 트리를 약한 학습기로 사용\n",
    "- 조정 가능한 하이퍼파라미터: GBM은 여러 하이퍼파라미터(예: learning_rate, n_estimators 등)를 조정해 성능을 개선"
   ]
  },
  {
   "cell_type": "code",
   "execution_count": 111,
   "id": "d39e4192-9e72-4139-a574-5ba167b7cefc",
   "metadata": {},
   "outputs": [],
   "source": [
    "from sklearn.model_selection import train_test_split\n",
    "from sklearn.feature_extraction.text import TfidfVectorizer\n",
    "from sklearn.ensemble import GradientBoostingClassifier\n",
    "from sklearn.metrics import accuracy_score, classification_report\n",
    "from imblearn.over_sampling import SMOTE"
   ]
  },
  {
   "cell_type": "code",
   "execution_count": 113,
   "id": "aee6d17b-4136-4ff8-bbc0-9121e8a325a5",
   "metadata": {},
   "outputs": [],
   "source": [
    "# 데이터 섞기\n",
    "df_shuffled = df.sample(frac=1, random_state=42).reset_index(drop=True)\n",
    "\n",
    "# 섞인 데이터로 학습\n",
    "X = df_shuffled['reviews']  # 섞인 리뷰 데이터\n",
    "y = df_shuffled['dfake']     # 섞인 타겟"
   ]
  },
  {
   "cell_type": "code",
   "execution_count": 115,
   "id": "37ee7916-067e-41bf-8f66-27755438b0fc",
   "metadata": {},
   "outputs": [],
   "source": [
    "# TF-IDF 벡터화\n",
    "vectorizer = TfidfVectorizer(max_features=500)\n",
    "X_tfidf = vectorizer.fit_transform(X)\n",
    "\n",
    "# 학습용 데이터와 테스트용 데이터로 나누기\n",
    "X_train, X_test, y_train, y_test = train_test_split(X_tfidf, y, test_size=0.2, random_state=42)\n"
   ]
  },
  {
   "cell_type": "code",
   "execution_count": 117,
   "id": "192c8c39-eb47-40e0-a5ee-0069ddcf6816",
   "metadata": {},
   "outputs": [
    {
     "name": "stdout",
     "output_type": "stream",
     "text": [
      "Accuracy: 0.9298685034439574\n",
      "Classification Report:\n",
      "               precision    recall  f1-score   support\n",
      "\n",
      "           0       0.93      0.98      0.95      1191\n",
      "           1       0.93      0.79      0.85       406\n",
      "\n",
      "    accuracy                           0.93      1597\n",
      "   macro avg       0.93      0.88      0.90      1597\n",
      "weighted avg       0.93      0.93      0.93      1597\n",
      "\n"
     ]
    }
   ],
   "source": [
    "# GBM 모델 정의 및 학습\n",
    "model = GradientBoostingClassifier(random_state=42)\n",
    "model.fit(X_train, y_train)\n",
    "\n",
    "# 예측 수행\n",
    "y_pred = model.predict(X_test)\n",
    "\n",
    "# 성능 평가\n",
    "accuracy = accuracy_score(y_test, y_pred)\n",
    "report = classification_report(y_test, y_pred)\n",
    "\n",
    "print(f\"Accuracy: {accuracy}\")\n",
    "print(\"Classification Report:\\n\", report)"
   ]
  },
  {
   "cell_type": "markdown",
   "id": "cb024548-5b49-4889-8e81-1242ac89801c",
   "metadata": {},
   "source": [
    "## **GBM에서 규제**\n",
    "- **learning_rate**와 **n_estimators**가 규제 역할\n",
    "- **learning_rate**: 학습률을 낮추면 각 단계에서 모델이 천천히 학습, 작은 변화를 점진적으로 반영하여 과적합 방지\n",
    "- **n_estimators**: 트리의 개수를 증가시키면 더 복잡한 모델이 될 수 있지만, 학습률이 낮으면 많은 트리로도 과적합을 피할 수 있음. 반대로, 학습률이 높고 트리 개수가 많으면 과적합의 위험이 커짐."
   ]
  },
  {
   "cell_type": "code",
   "execution_count": 139,
   "id": "e40a0145-7d93-46e1-8bbc-cf75837c560f",
   "metadata": {},
   "outputs": [
    {
     "name": "stdout",
     "output_type": "stream",
     "text": [
      "   learning_rate  n_estimators  accuracy\n",
      "0           0.01            50  0.833752\n",
      "1           0.01           100  0.851340\n",
      "2           0.01           200  0.881910\n",
      "3           0.10            50  0.926298\n",
      "4           0.10           100  0.945980\n",
      "5           0.10           200  0.956868\n",
      "6           0.20            50  0.943049\n",
      "7           0.20           100  0.957286\n",
      "8           0.20           200  0.969430\n"
     ]
    }
   ],
   "source": [
    "from sklearn.ensemble import GradientBoostingClassifier\n",
    "\n",
    "# 학습률과 트리 개수의 다양한 옵션을 설정\n",
    "learning_rates = [0.01, 0.1, 0.2]\n",
    "n_estimators_options = [50, 100, 200]\n",
    "\n",
    "# 민감도 분석 결과를 저장할 리스트\n",
    "results = []\n",
    "\n",
    "# 반복문을 통해 다양한 learning_rate와 n_estimators에 대한 성능을 평가\n",
    "for lr in learning_rates:\n",
    "    for n_est in n_estimators_options:\n",
    "        model = GradientBoostingClassifier(learning_rate=lr, n_estimators=n_est, random_state=42)\n",
    "        model.fit(X_train, y_train)\n",
    "        \n",
    "        # 예측 수행\n",
    "        y_pred = model.predict(X_test)\n",
    "        \n",
    "        # 정확도 계산\n",
    "        accuracy = accuracy_score(y_test, y_pred)\n",
    "        \n",
    "        # 결과 저장\n",
    "        results.append({\n",
    "            'learning_rate': lr,\n",
    "            'n_estimators': n_est,\n",
    "            'accuracy': accuracy\n",
    "        })\n",
    "\n",
    "# 결과 출력\n",
    "results_df = pd.DataFrame(results)\n",
    "print(results_df)"
   ]
  },
  {
   "cell_type": "markdown",
   "id": "48d133fd-f17c-4d74-bb31-651c9c8b3688",
   "metadata": {},
   "source": [
    "## **데이터 증강(Augmentation)**\n",
    "- SMOTE(Synthetic Minority Over-sampling Technique)\n"
   ]
  },
  {
   "cell_type": "code",
   "execution_count": 125,
   "id": "f40560d6-b5b3-4243-8fff-23f09a2c8302",
   "metadata": {},
   "outputs": [
    {
     "name": "stdout",
     "output_type": "stream",
     "text": [
      "Accuracy: 0.9459798994974874\n",
      "Classification Report:\n",
      "               precision    recall  f1-score   support\n",
      "\n",
      "           0       0.92      0.97      0.95      1188\n",
      "           1       0.97      0.92      0.94      1200\n",
      "\n",
      "    accuracy                           0.95      2388\n",
      "   macro avg       0.95      0.95      0.95      2388\n",
      "weighted avg       0.95      0.95      0.95      2388\n",
      "\n"
     ]
    }
   ],
   "source": [
    "# SMOTE 적용\n",
    "smote = SMOTE(random_state=42)\n",
    "X_resampled, y_resampled = smote.fit_resample(X_tfidf, y)\n",
    "\n",
    "# 학습용 데이터와 테스트용 데이터로 나누기\n",
    "X_train, X_test, y_train, y_test = train_test_split(X_resampled, y_resampled, test_size=0.2, random_state=42)\n",
    "\n",
    "# GBM 모델 정의 및 학습\n",
    "model_smote = GradientBoostingClassifier(random_state=42)\n",
    "model_smote.fit(X_train, y_train)\n",
    "\n",
    "# 예측 수행\n",
    "y_pred_smote = model_smote.predict(X_test)\n",
    "\n",
    "# 성능 평가\n",
    "accuracy = accuracy_score(y_test, y_pred_smote)\n",
    "report = classification_report(y_test, y_pred_smote)\n",
    "\n",
    "print(f\"Accuracy: {accuracy}\")\n",
    "print(\"Classification Report:\\n\", report)"
   ]
  },
  {
   "cell_type": "code",
   "execution_count": null,
   "id": "e5540351-d03b-4e20-9fc6-3d84902ffa46",
   "metadata": {},
   "outputs": [],
   "source": []
  }
 ],
 "metadata": {
  "kernelspec": {
   "display_name": "Python 3 (ipykernel)",
   "language": "python",
   "name": "python3"
  },
  "language_info": {
   "codemirror_mode": {
    "name": "ipython",
    "version": 3
   },
   "file_extension": ".py",
   "mimetype": "text/x-python",
   "name": "python",
   "nbconvert_exporter": "python",
   "pygments_lexer": "ipython3",
   "version": "3.12.4"
  }
 },
 "nbformat": 4,
 "nbformat_minor": 5
}
